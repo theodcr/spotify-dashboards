{
 "cells": [
  {
   "cell_type": "markdown",
   "metadata": {},
   "source": [
    "# Dashboard with Panel, Holoviews and Bokeh for Spotify datasets\n",
    "\n",
    "Some documentation pages that helped me:\n",
    "- http://holoviews.org/user_guide/Plotting_with_Bokeh.html\n",
    "- https://bokeh.pydata.org/en/latest/docs/user_guide/tools.html#custom-tooltip\n",
    "- https://github.com/pyviz-demos/glaciers"
   ]
  },
  {
   "cell_type": "code",
   "execution_count": null,
   "metadata": {},
   "outputs": [],
   "source": [
    "%load_ext watermark\n",
    "%watermark -v -n -u -p numpy,pandas,bokeh,holoviews\n",
    "%reload_ext autoreload\n",
    "%autoreload 1"
   ]
  },
  {
   "cell_type": "code",
   "execution_count": null,
   "metadata": {},
   "outputs": [],
   "source": [
    "from pathlib import Path\n",
    "\n",
    "import holoviews as hv\n",
    "import pandas as pd\n",
    "import panel as pn\n",
    "from bokeh.models import HoverTool\n",
    "hv.extension(\"bokeh\")"
   ]
  },
  {
   "cell_type": "markdown",
   "metadata": {},
   "source": [
    "## Get and preprocess datasets\n",
    "\n",
    "- Converting some column types.\n",
    "- Clipping some columns to avoid irrelevant outliers.\n",
    "- Creating columns for direct plotting."
   ]
  },
  {
   "cell_type": "code",
   "execution_count": null,
   "metadata": {},
   "outputs": [],
   "source": [
    "DATA_DIR = Path(\"data/\")"
   ]
  },
  {
   "cell_type": "code",
   "execution_count": null,
   "metadata": {},
   "outputs": [],
   "source": [
    "albums = pd.read_json(DATA_DIR / \"albums_features.json\")\n",
    "artists = pd.read_json(DATA_DIR / \"artists_features.json\")"
   ]
  },
  {
   "cell_type": "code",
   "execution_count": null,
   "metadata": {},
   "outputs": [],
   "source": [
    "albums[\"name\"] = albums[\"name\"].astype(str)\n",
    "albums[\"release_date\"] = pd.to_datetime(albums.release_date)\n",
    "albums[\"year\"] = albums.release_date.dt.year\n",
    "albums[\"decade\"] = albums.year.astype(str).str[:3] + \"0\"\n",
    "albums[\"loudness\"] = albums.loudness.clip(\n",
    "    albums.loudness.quantile(0.05), albums.loudness.quantile(0.95)\n",
    ")"
   ]
  },
  {
   "cell_type": "markdown",
   "metadata": {},
   "source": [
    "## Build the main visualizations"
   ]
  },
  {
   "cell_type": "code",
   "execution_count": null,
   "metadata": {
    "lines_to_next_cell": 1
   },
   "outputs": [],
   "source": [
    "def create_artists_points(data):\n",
    "    artists_tooltips = \"\"\"\n",
    "        <div>\n",
    "            <div>\n",
    "                <img\n",
    "                    src=\"@image\" height=\"70\" alt=\"@image\" width=\"70\"\n",
    "                    style=\"float: left; margin: 0px 15px 15px 0px;\"\n",
    "                    border=\"1\"\n",
    "                ></img>\n",
    "            </div>\n",
    "            <div>\n",
    "                <span style=\"font-size: 15px;\"><b>@name</b></span>\n",
    "            </div>\n",
    "            <div>\n",
    "                <span style=\"font-weight: bold;\">Main genre:</span>\n",
    "                <span>@genre_cluster</span>\n",
    "            </div>\n",
    "            <div>\n",
    "                <span style=\"font-weight: bold;\">Subgenre:</span>\n",
    "                <span>@genre_specific</span>\n",
    "            </div>\n",
    "        </div>\n",
    "    \"\"\"\n",
    "    artists_hover = HoverTool(tooltips=artists_tooltips)\n",
    "    artists_points = hv.Points(\n",
    "        data=data, kdims=[\"genre_x\", \"genre_y\"],\n",
    "        vdims=[\"genre_cluster\", \"genre_specific\", \"popularity\", \"image\", \"name\"]\n",
    "    )\n",
    "    artists_points.opts(\n",
    "        tools=[\"box_select\", \"lasso_select\", artists_hover, \"tap\"],\n",
    "        color=\"genre_cluster\", cmap=\"dark2\",\n",
    "        line_color=\"black\", size=hv.dim(\"popularity\")/5,\n",
    "        padding=0.1, width=800, height=600, show_grid=False, show_frame=False,\n",
    "        xaxis=\"bare\", yaxis=\"bare\", title=\"Artists\"\n",
    "    )\n",
    "    return artists_points"
   ]
  },
  {
   "cell_type": "code",
   "execution_count": null,
   "metadata": {
    "lines_to_next_cell": 1
   },
   "outputs": [],
   "source": [
    "def create_albums_points(data=None, x=None, y=None, color=None):\n",
    "    if data is None:\n",
    "        data = albums\n",
    "    x = x or x_select.value\n",
    "    y = y or y_select.value\n",
    "    color = color or color_select.value\n",
    "\n",
    "    albums_tooltips = \"\"\"\n",
    "        <div>\n",
    "            <div>\n",
    "                <img\n",
    "                    src=\"@image\" height=\"70\" alt=\"@image\" width=\"70\"\n",
    "                    style=\"float: left; margin: 0px 15px 15px 0px;\"\n",
    "                    border=\"2\"\n",
    "                ></img>\n",
    "            </div>\n",
    "            <div>\n",
    "                <span>@artist_name</span>\n",
    "            </div>\n",
    "            <div>\n",
    "                <span>@name</span>\n",
    "            </div>\n",
    "            <div>\n",
    "                <span>@year</span>\n",
    "            </div>\n",
    "        </div>\n",
    "    \"\"\"\n",
    "    albums_hover = HoverTool(tooltips=albums_tooltips)\n",
    "    albums_points = hv.Points(\n",
    "        data, [x, y],\n",
    "        [\"name\", \"artist_name\", \"image\", \"year\", color]\n",
    "    )\n",
    "    albums_points.opts(\n",
    "        tools=[albums_hover], color=color, cmap=\"viridis\",\n",
    "        line_color=\"black\", size=10, colorbar=True,\n",
    "        padding=0.1, width=800, height=600, title=\"Albums\"\n",
    "    )\n",
    "    return albums_points"
   ]
  },
  {
   "cell_type": "markdown",
   "metadata": {},
   "source": [
    "### Widgets"
   ]
  },
  {
   "cell_type": "code",
   "execution_count": null,
   "metadata": {},
   "outputs": [],
   "source": [
    "genres = list(artists.genre_cluster.value_counts().index)\n",
    "decades = sorted(albums.decade.unique(), reverse=True)\n",
    "columns = sorted([\n",
    "    \"popularity\", \"release_date\", \"total_tracks\", \"duration_ms\", \"danceability\", \"energy\",\n",
    "    \"key\", \"loudness\", \"mode\", \"speechiness\", \"acousticness\",\n",
    "    \"instrumentalness\", \"liveness\", \"valence\", \"tempo\", \"time_signature\", \"year\"\n",
    "])\n",
    "decade_select = pn.widgets.CheckBoxGroup(\n",
    "    name=\"decades\", value=decades, options=decades,\n",
    "    inline=False\n",
    ")\n",
    "x_select = pn.widgets.Select(value=\"valence\", options=columns, name=\"x\")\n",
    "y_select = pn.widgets.Select(value=\"popularity\", options=columns, name=\"y\")\n",
    "color_select = pn.widgets.Select(value=\"loudness\", options=columns, name=\"color\")\n",
    "\n",
    "decade_box = pn.WidgetBox(\"# Decade\", decade_select)\n",
    "axes_box = pn.WidgetBox(\"# Axes\", x_select, y_select, color_select)"
   ]
  },
  {
   "cell_type": "markdown",
   "metadata": {},
   "source": [
    "### HTML"
   ]
  },
  {
   "cell_type": "code",
   "execution_count": null,
   "metadata": {},
   "outputs": [],
   "source": [
    "title = \"<div style='font-size:35px'>Spotify user library explorer</div>\"\n",
    "instruction = (\"<div style='font-size:15px'>Select artists on the map and album release decade to filter albums.<br>\"\n",
    "               \"Albums view is zoomable, and axes are customizable.<br></div>\")"
   ]
  },
  {
   "cell_type": "markdown",
   "metadata": {},
   "source": [
    "### Base layout"
   ]
  },
  {
   "cell_type": "code",
   "execution_count": null,
   "metadata": {},
   "outputs": [],
   "source": [
    "artists_points = create_artists_points(artists)\n",
    "albums_points = create_albums_points(\n",
    "    x=x_select.value,\n",
    "    y=y_select.value,\n",
    "    color=color_select.value,\n",
    "    data=albums\n",
    ")\n",
    "\n",
    "layout = pn.Column(\n",
    "    pn.Row(\n",
    "        pn.Column(\n",
    "            pn.Pane(title, width=400),\n",
    "            pn.Pane(instruction, width=400),\n",
    "        ),\n",
    "        pn.Pane(artists_points),\n",
    "    ),\n",
    "    pn.Row(\n",
    "        pn.Column(\n",
    "            decade_box,\n",
    "            axes_box,\n",
    "            width=400,\n",
    "        ),\n",
    "        pn.Pane(albums_points),\n",
    "    ),\n",
    "    width_policy=\"max\", height_policy=\"max\"\n",
    ")"
   ]
  },
  {
   "cell_type": "markdown",
   "metadata": {},
   "source": [
    "### Interactivity and selections"
   ]
  },
  {
   "cell_type": "code",
   "execution_count": null,
   "metadata": {},
   "outputs": [],
   "source": [
    "def update(event):\n",
    "    if artists_select.index:\n",
    "        artist_names = artists_points.columns()[\"name\"][artists_select.index]\n",
    "        data_albums = albums[albums.artist_name.isin(artist_names)]\n",
    "    else:\n",
    "        data_albums = albums\n",
    "    data_albums = data_albums[data_albums.decade.isin(decade_select.value)]\n",
    "    layout[-1][-1] = create_albums_points(\n",
    "        x=x_select.value,\n",
    "        y=y_select.value,\n",
    "        color=color_select.value,\n",
    "        data=data_albums\n",
    "    )\n",
    "\n",
    "artists_select = hv.streams.Selection1D(source=artists_points)\n",
    "\n",
    "x_select.param.watch(update, \"value\");\n",
    "y_select.param.watch(update, \"value\");\n",
    "color_select.param.watch(update, \"value\");\n",
    "artists_select.param.watch(update, \"index\");\n",
    "decade_select.param.watch(update, \"value\");"
   ]
  },
  {
   "cell_type": "markdown",
   "metadata": {},
   "source": [
    "### Result"
   ]
  },
  {
   "cell_type": "code",
   "execution_count": null,
   "metadata": {},
   "outputs": [],
   "source": [
    "layout.servable()"
   ]
  },
  {
   "cell_type": "code",
   "execution_count": null,
   "metadata": {},
   "outputs": [],
   "source": []
  }
 ],
 "metadata": {
  "kernelspec": {
   "display_name": "Python 3",
   "language": "python",
   "name": "python3"
  },
  "language_info": {
   "codemirror_mode": {
    "name": "ipython",
    "version": 3
   },
   "file_extension": ".py",
   "mimetype": "text/x-python",
   "name": "python",
   "nbconvert_exporter": "python",
   "pygments_lexer": "ipython3",
   "version": "3.6.5"
  }
 },
 "nbformat": 4,
 "nbformat_minor": 2
}
