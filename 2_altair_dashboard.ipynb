{
 "cells": [
  {
   "cell_type": "markdown",
   "metadata": {},
   "source": [
    "# Dashboard with Altair\n",
    "\n",
    "Resources:\n",
    "- https://altair-viz.github.io/gallery/scatter_linked_brush.html\n",
    "- https://altair-viz.github.io/gallery/multiple_interactions.html\n",
    "- https://altair-viz.github.io/gallery/select_detail.html\n",
    "- https://altair-viz.github.io/user_guide/interactions.html\n",
    "- https://altair-viz.github.io/user_guide/customization.html\n",
    "- https://github.com/altair-viz/altair/issues/1552\n",
    "- https://stackoverflow.com/questions/57244390/has-anyone-figured-out-a-workaround-to-add-a-subtitle-to-an-altair-generated-cha"
   ]
  },
  {
   "cell_type": "code",
   "execution_count": null,
   "metadata": {},
   "outputs": [],
   "source": [
    "%load_ext watermark\n",
    "%watermark -v -n -u -p numpy,pandas,altair\n",
    "%reload_ext autoreload\n",
    "%autoreload 1"
   ]
  },
  {
   "cell_type": "code",
   "execution_count": null,
   "metadata": {},
   "outputs": [],
   "source": [
    "from pathlib import Path\n",
    "\n",
    "import altair as alt\n",
    "import pandas as pd"
   ]
  },
  {
   "cell_type": "markdown",
   "metadata": {},
   "source": [
    "## Get and preprocess datasets\n",
    "\n",
    "- Converting some column types.\n",
    "- Clipping some columns to avoid irrelevant outliers.\n",
    "- Creating columns for direct plotting."
   ]
  },
  {
   "cell_type": "code",
   "execution_count": null,
   "metadata": {},
   "outputs": [],
   "source": [
    "DATA_DIR = Path(\"data/\")"
   ]
  },
  {
   "cell_type": "code",
   "execution_count": null,
   "metadata": {},
   "outputs": [],
   "source": [
    "albums = pd.read_json(DATA_DIR / \"albums_features.json\")\n",
    "artists = pd.read_json(DATA_DIR / \"artists_features.json\")"
   ]
  },
  {
   "cell_type": "code",
   "execution_count": null,
   "metadata": {},
   "outputs": [],
   "source": [
    "albums[\"name\"] = albums[\"name\"].astype(str)\n",
    "albums[\"release_date\"] = pd.to_datetime(albums.release_date)\n",
    "albums[\"year\"] = albums.release_date.dt.year\n",
    "albums[\"decade\"] = albums.year.astype(str).str[:3] + \"0\"\n",
    "albums[\"loudness\"] = albums.loudness.clip(albums.loudness.quantile(0.05), albums.loudness.quantile(0.95))"
   ]
  },
  {
   "cell_type": "code",
   "execution_count": null,
   "metadata": {},
   "outputs": [],
   "source": [
    "artists.columns"
   ]
  },
  {
   "cell_type": "markdown",
   "metadata": {},
   "source": [
    "## Adapt data for simple charts\n",
    "\n",
    "Join artists to albums to have one unique dataset. This makes Altair interactions much easier."
   ]
  },
  {
   "cell_type": "code",
   "execution_count": null,
   "metadata": {},
   "outputs": [],
   "source": [
    "artists_columns = [\"genre_cluster\", \"genre_specific\", \"genre_x\", \"genre_y\"]\n",
    "albums_columns = [\"name\", \"release_date\", \"popularity\", \"loudness\", \"artist_uri\", \"artist_name\"]\n",
    "data = albums[albums_columns].join(\n",
    "    artists.set_index(\"uri\")[artists_columns],\n",
    "    on=\"artist_uri\", how=\"inner\"\n",
    ").drop(\"artist_uri\", axis=1)"
   ]
  },
  {
   "cell_type": "markdown",
   "metadata": {},
   "source": [
    "## Charts and interactions"
   ]
  },
  {
   "cell_type": "code",
   "execution_count": null,
   "metadata": {},
   "outputs": [],
   "source": [
    "genres_selector = alt.selection_multi(fields=[\"genre_cluster\"])\n",
    "artists_selector = alt.selection(type=\"interval\")\n",
    "base_chart = alt.Chart(data)\n",
    "genres_color = alt.condition(genres_selector, alt.Color(\"genre_cluster:N\", legend=None), alt.value(\"lightgray\"))\n",
    "\n",
    "genres_points = base_chart.mark_point().encode(\n",
    "    y=\"genre_cluster:N\",\n",
    "    color=genres_color,\n",
    ").add_selection(genres_selector)\n",
    "\n",
    "artists_points = base_chart.mark_point().encode(\n",
    "    x=alt.X(\"mean(genre_x)\", axis=None),\n",
    "    y=alt.Y(\"mean(genre_y)\", axis=None),\n",
    "    color=genres_color,\n",
    "    tooltip=[\"artist_name\", \"genre_cluster\", \"genre_specific\"],\n",
    ").add_selection(\n",
    "    artists_selector\n",
    ")\n",
    "\n",
    "base_albums_points = base_chart.mark_point().encode(\n",
    "    x=\"release_date\",\n",
    "    y=\"popularity\",\n",
    ")\n",
    "\n",
    "albums_points = base_albums_points.encode(\n",
    "    color=alt.condition(\n",
    "        artists_selector,\n",
    "        alt.Color(\"loudness:Q\", scale=alt.Scale(scheme=\"viridis\")),\n",
    "        alt.value(\"lightgray\")\n",
    "    ),\n",
    ")\n",
    "\n",
    "albums_tooltips = base_albums_points.encode(\n",
    "    opacity=alt.value(0),\n",
    "    tooltip=[\"artist_name\", \"name\", \"release_date\"]\n",
    ").transform_filter(\n",
    "    artists_selector\n",
    ")"
   ]
  },
  {
   "cell_type": "code",
   "execution_count": null,
   "metadata": {},
   "outputs": [],
   "source": [
    "title = alt.Chart(\n",
    "    {\"values\": [{\"text\": \"Spotify user library explorer\"}]}\n",
    ").mark_text(size=20).encode(\n",
    "    text=\"text:N\",\n",
    ")\n",
    "\n",
    "subtitle = alt.Chart(\n",
    "    {\"values\": [{\"text\": \"Click on a genre to filter artists, select artists to filter albums, albums view is zoomable\"}]}\n",
    ").mark_text(size=14).encode(\n",
    "    text=\"text:N\",\n",
    ")"
   ]
  },
  {
   "cell_type": "code",
   "execution_count": null,
   "metadata": {},
   "outputs": [],
   "source": [
    "chart = alt.vconcat(\n",
    "    title,\n",
    "    subtitle,\n",
    "    alt.hconcat(\n",
    "        genres_points.properties(title=\"Genres\"),\n",
    "        artists_points.properties(title=\"Artists\")\n",
    "    ),\n",
    "    (albums_points + albums_tooltips).interactive().properties(title=\"Albums\")\n",
    ").configure_view(\n",
    "    stroke=None\n",
    ").configure_concat(\n",
    "    spacing=10\n",
    ")\n",
    "chart"
   ]
  },
  {
   "cell_type": "code",
   "execution_count": null,
   "metadata": {},
   "outputs": [],
   "source": [
    "chart.save(\"altair_dashboard.html\")"
   ]
  }
 ],
 "metadata": {
  "kernelspec": {
   "display_name": "Python 3",
   "language": "python",
   "name": "python3"
  },
  "language_info": {
   "codemirror_mode": {
    "name": "ipython",
    "version": 3
   },
   "file_extension": ".py",
   "mimetype": "text/x-python",
   "name": "python",
   "nbconvert_exporter": "python",
   "pygments_lexer": "ipython3",
   "version": "3.6.5"
  }
 },
 "nbformat": 4,
 "nbformat_minor": 2
}
