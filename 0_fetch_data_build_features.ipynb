{
 "cells": [
  {
   "cell_type": "markdown",
   "metadata": {},
   "source": [
    "# Fetch data from Spotify and build datasets"
   ]
  },
  {
   "cell_type": "code",
   "execution_count": null,
   "metadata": {},
   "outputs": [],
   "source": [
    "import json\n",
    "from functools import reduce\n",
    "from pathlib import Path\n",
    "from typing import Dict\n",
    "\n",
    "import numpy as np\n",
    "import pandas as pd\n",
    "from sklearn.preprocessing import MultiLabelBinarizer\n",
    "from sklearn.feature_extraction.text import TfidfTransformer\n",
    "from sklearn.manifold import TSNE\n",
    "from sklearn.cluster import KMeans\n",
    "from tqdm import tqdm_notebook as tqdm\n",
    "\n",
    "from powerspot.operations import (\n",
    "    get_album,\n",
    "    get_artist,\n",
    "    get_followed_artists,\n",
    "    get_artist_albums,\n",
    "    get_audio_analysis,\n",
    "    get_audio_features,\n",
    "    get_tracks,\n",
    ")\n",
    "from powerspot.cli import get_username"
   ]
  },
  {
   "cell_type": "code",
   "execution_count": null,
   "metadata": {},
   "outputs": [],
   "source": [
    "DATA_DIR = Path(\"data/\")\n",
    "# set random state for reproductible results\n",
    "CONSTANT_RANDOM_STATE = 4"
   ]
  },
  {
   "cell_type": "code",
   "execution_count": null,
   "metadata": {},
   "outputs": [],
   "source": [
    "def save_json(name: str, data: Dict) -> None:\n",
    "    (Path(DATA_DIR) / (name + \".json\")).write_text(json.dumps(data))"
   ]
  },
  {
   "cell_type": "markdown",
   "metadata": {},
   "source": [
    "## Get data\n",
    "\n",
    "I use my library [powerspot](https://github.com/theodcr/powerspot) to easily fetch data from my Spotify account.\n",
    "\n",
    "### User's followed artists\n",
    "\n",
    "See the [documentation](https://developer.spotify.com/documentation/web-api/reference/follow/get-followed/)"
   ]
  },
  {
   "cell_type": "code",
   "execution_count": null,
   "metadata": {},
   "outputs": [],
   "source": [
    "username = get_username()"
   ]
  },
  {
   "cell_type": "code",
   "execution_count": null,
   "metadata": {},
   "outputs": [],
   "source": [
    "artists = get_followed_artists(username)"
   ]
  },
  {
   "cell_type": "code",
   "execution_count": null,
   "metadata": {},
   "outputs": [],
   "source": [
    "save_json(\"artists\", artists)"
   ]
  },
  {
   "cell_type": "markdown",
   "metadata": {},
   "source": [
    "### Albums released by each artist\n",
    "\n",
    "See the [documentation](https://developer.spotify.com/documentation/web-api/reference/artists/get-artists-albums/)"
   ]
  },
  {
   "cell_type": "code",
   "execution_count": null,
   "metadata": {},
   "outputs": [],
   "source": [
    "artist_albums = {\n",
    "    artist[\"uri\"]: get_artist_albums(artist[\"uri\"], limit=50)\n",
    "    for artist in tqdm(artists)\n",
    "}"
   ]
  },
  {
   "cell_type": "markdown",
   "metadata": {},
   "source": [
    "How many artists and albums have we fetched:"
   ]
  },
  {
   "cell_type": "code",
   "execution_count": null,
   "metadata": {},
   "outputs": [],
   "source": [
    "all_albums = reduce(lambda x, y: x + y, artist_albums.values())\n",
    "print(\"Number of artists:\", len(artists))\n",
    "print(\"Total number of albums:\", len(all_albums))"
   ]
  },
  {
   "cell_type": "markdown",
   "metadata": {},
   "source": [
    "2052 albums from 284 artists.\n",
    "\n",
    "### More details on albums\n",
    "\n",
    "The `albums` endpoint gives a bit more data about albums that the `artist_albums`. See the [documentation](https://developer.spotify.com/documentation/web-api/reference/albums/get-album/)"
   ]
  },
  {
   "cell_type": "code",
   "execution_count": null,
   "metadata": {},
   "outputs": [],
   "source": [
    "albums = [get_album(album[\"uri\"]) for album in tqdm(all_albums)]"
   ]
  },
  {
   "cell_type": "code",
   "execution_count": null,
   "metadata": {},
   "outputs": [],
   "source": [
    "save_json(\"albums\", albums)"
   ]
  },
  {
   "cell_type": "code",
   "execution_count": null,
   "metadata": {},
   "outputs": [],
   "source": [
    "print(\n",
    "    \"Total number of tracks:\",\n",
    "    sum([int(album[\"total_tracks\"]) for album in albums])\n",
    ")"
   ]
  },
  {
   "cell_type": "markdown",
   "metadata": {},
   "source": [
    "A total of 30123 tracks.\n",
    "\n",
    "### Album tracks audio features\n",
    "\n",
    "Audio features provide a lot of interesting musical information about the tracks of our albums. See the [documentation](https://developer.spotify.com/documentation/web-api/reference/tracks/get-several-audio-features/)"
   ]
  },
  {
   "cell_type": "code",
   "execution_count": null,
   "metadata": {},
   "outputs": [],
   "source": [
    "audio_features = {\n",
    "    uri: get_audio_features([track[\"uri\"] for track in album[\"tracks\"][\"items\"]])\n",
    "    for uri, album in tqdm(albums.items())\n",
    "}"
   ]
  },
  {
   "cell_type": "markdown",
   "metadata": {},
   "source": [
    "## Build datasets\n",
    "\n",
    "### Artists genres representation\n",
    "\n",
    "- Binarization to get a matrix with 1 column per existing genre.\n",
    "- Tf-Idf to get a more representative genres representation for each artist.\n",
    "- t-SNE with 2 dimensions applied on the Tf-Idf matrix to get (x, y) coordinates for each artist in a 2D-genres space.\n",
    "- KMean on the Tf-Idf matrix to find cluster among artists using their genres."
   ]
  },
  {
   "cell_type": "code",
   "execution_count": null,
   "metadata": {},
   "outputs": [],
   "source": [
    "mlb = MultiLabelBinarizer()\n",
    "genres_binarized = pd.DataFrame(\n",
    "    mlb.fit_transform([artist[\"genres\"] for artist in artists]), columns=mlb.classes_\n",
    ")"
   ]
  },
  {
   "cell_type": "code",
   "execution_count": null,
   "metadata": {},
   "outputs": [],
   "source": [
    "genres_binarized.shape"
   ]
  },
  {
   "cell_type": "markdown",
   "metadata": {},
   "source": [
    "300 genres among the 284 artists.\n",
    "\n",
    "We can look at the most common genres."
   ]
  },
  {
   "cell_type": "code",
   "execution_count": null,
   "metadata": {},
   "outputs": [],
   "source": [
    "genres_binarized.sum(0).sort_values(ascending=False)[:10]"
   ]
  },
  {
   "cell_type": "markdown",
   "metadata": {},
   "source": [
    "Almost half the artists are in the modern and/or indie rock genres."
   ]
  },
  {
   "cell_type": "code",
   "execution_count": null,
   "metadata": {},
   "outputs": [],
   "source": [
    "tfidf = TfidfTransformer()\n",
    "genres_tfidf = pd.DataFrame(\n",
    "    tfidf.fit_transform(genres_binarized).toarray(), columns=mlb.classes_,\n",
    ")"
   ]
  },
  {
   "cell_type": "markdown",
   "metadata": {},
   "source": [
    "Using the Tf-Idf genres representation, we can pick for each artist 1 genre that is its most destinctive (the one with the highest value).\n",
    "\n",
    "It should mainly be subgenres."
   ]
  },
  {
   "cell_type": "code",
   "execution_count": null,
   "metadata": {},
   "outputs": [],
   "source": [
    "genres_tfidf.idxmax(1).value_counts()"
   ]
  },
  {
   "cell_type": "code",
   "execution_count": null,
   "metadata": {},
   "outputs": [],
   "source": [
    "tsne = TSNE(n_components=2, random_state=CONSTANT_RANDOM_STATE)"
   ]
  },
  {
   "cell_type": "code",
   "execution_count": null,
   "metadata": {},
   "outputs": [],
   "source": [
    "tsne.fit(genres_tfidf)"
   ]
  },
  {
   "cell_type": "code",
   "execution_count": null,
   "metadata": {},
   "outputs": [],
   "source": [
    "km = KMeans(random_state=CONSTANT_RANDOM_STATE)\n",
    "km.fit(genres_tfidf)"
   ]
  },
  {
   "cell_type": "markdown",
   "metadata": {},
   "source": [
    "### Artists features\n",
    "\n",
    "- artist name\n",
    "- image\n",
    "- genres representation\n",
    "- popularity\n",
    "- number of followers"
   ]
  },
  {
   "cell_type": "code",
   "execution_count": null,
   "metadata": {},
   "outputs": [],
   "source": [
    "def get_complex_centers_labels(mlb, km, nb_labels=2):\n",
    "    \"\"\"Helper function to get labels that describe the cluster centers.\"\"\"\n",
    "    labels = np.array([\n",
    "        \", \".join(mlb.classes_[km.cluster_centers_.argsort()[:, ::-1][i, :nb_labels]])\n",
    "        for i in range(km.n_clusters)\n",
    "    ])\n",
    "    return labels[km.labels_]"
   ]
  },
  {
   "cell_type": "code",
   "execution_count": null,
   "metadata": {},
   "outputs": [],
   "source": [
    "genre_clusters = get_complex_centers_labels(mlb, km, nb_labels=2)"
   ]
  },
  {
   "cell_type": "code",
   "execution_count": null,
   "metadata": {},
   "outputs": [],
   "source": [
    "genre_specifics = genres_tfidf.idxmax(1)"
   ]
  },
  {
   "cell_type": "code",
   "execution_count": null,
   "metadata": {},
   "outputs": [],
   "source": [
    "artists_features = pd.DataFrame({\n",
    "    \"uri\": artist[\"uri\"],\n",
    "    \"name\": artist[\"name\"],\n",
    "    \"popularity\": artist[\"popularity\"],\n",
    "    \"followers\": artist[\"followers\"][\"total\"],\n",
    "    \"image\": artist[\"images\"][-1][\"url\"],  # smallest image url\n",
    "    \"genre_cluster\": genre_cluster,\n",
    "    \"genre_specific\": genre_specific,\n",
    "    \"genre_x\": tsne_x,\n",
    "    \"genre_y\": tsne_y,\n",
    "} for artist, genre_cluster, genre_specific, (tsne_x, tsne_y) in zip(artists, genre_clusters, genre_specifics, tsne.embedding_))"
   ]
  },
  {
   "cell_type": "code",
   "execution_count": null,
   "metadata": {},
   "outputs": [],
   "source": [
    "artists_features.head(5)"
   ]
  },
  {
   "cell_type": "code",
   "execution_count": null,
   "metadata": {},
   "outputs": [],
   "source": [
    "artists_features.to_json(DATA_DIR / \"artists_features.json\")"
   ]
  },
  {
   "cell_type": "markdown",
   "metadata": {},
   "source": [
    "### Albums features\n",
    "\n",
    "- album name\n",
    "- image\n",
    "- popularity\n",
    "- release date\n",
    "- total tracks\n",
    "- total duration\n",
    "- mean audio features from tracks"
   ]
  },
  {
   "cell_type": "code",
   "execution_count": null,
   "metadata": {},
   "outputs": [],
   "source": [
    "albums = read_json(\"albums\")"
   ]
  },
  {
   "cell_type": "code",
   "execution_count": null,
   "metadata": {},
   "outputs": [],
   "source": [
    "albums_features = pd.DataFrame({\n",
    "    \"artist_uri\": album[\"artists\"][0][\"uri\"],\n",
    "    \"artist_name\": album[\"artists\"][0][\"name\"],\n",
    "    \"uri\": album[\"uri\"],\n",
    "    \"name\": album[\"name\"],\n",
    "    \"popularity\": album[\"popularity\"],\n",
    "    \"image\": album[\"images\"][-1][\"url\"],  # smallest image url\n",
    "    \"release_date\": album[\"release_date\"],\n",
    "    \"total_tracks\": album[\"total_tracks\"],\n",
    "    \"duration_ms\": sum(track[\"duration_ms\"] for track in album[\"tracks\"][\"items\"]),\n",
    "    # mean of audio_features     \n",
    "    **{key: sum(\n",
    "        track[key] for track in album_audio_feat if track is not None\n",
    "    ) / len(album_audio_feat)\n",
    "       for key in [\n",
    "           \"danceability\",\n",
    "           \"energy\",\n",
    "           \"key\",\n",
    "           \"loudness\",\n",
    "           \"mode\",\n",
    "           \"speechiness\",\n",
    "           \"acousticness\",\n",
    "           \"instrumentalness\",\n",
    "           \"liveness\",\n",
    "           \"valence\",\n",
    "           \"tempo\",\n",
    "           \"time_signature\",\n",
    "       ]}\n",
    "} for album, album_audio_feat in zip(albums, audio_features.values()))"
   ]
  },
  {
   "cell_type": "markdown",
   "metadata": {},
   "source": [
    "*Note:* I found 1 album where audio features are all None values, I delete it as it must be a bug (I detect it at a mean tempo of zero in the data)."
   ]
  },
  {
   "cell_type": "code",
   "execution_count": null,
   "metadata": {},
   "outputs": [],
   "source": [
    "albums_features = albums_features[albums_features.tempo > 0]"
   ]
  },
  {
   "cell_type": "code",
   "execution_count": null,
   "metadata": {},
   "outputs": [],
   "source": [
    "len(albums_features)"
   ]
  },
  {
   "cell_type": "markdown",
   "metadata": {},
   "source": [
    "2047 albums in the final dataset."
   ]
  },
  {
   "cell_type": "code",
   "execution_count": null,
   "metadata": {},
   "outputs": [],
   "source": [
    "albums_features.head(5)"
   ]
  },
  {
   "cell_type": "code",
   "execution_count": null,
   "metadata": {},
   "outputs": [],
   "source": [
    "albums_features.to_json(DATA_DIR / \"albums_features.json\")"
   ]
  },
  {
   "cell_type": "code",
   "execution_count": null,
   "metadata": {},
   "outputs": [],
   "source": []
  }
 ],
 "metadata": {
  "jupytext": {
   "encoding": "# -*- coding: utf-8 -*-"
  },
  "kernelspec": {
   "display_name": "Python 3",
   "language": "python",
   "name": "python3"
  },
  "language_info": {
   "codemirror_mode": {
    "name": "ipython",
    "version": 3
   },
   "file_extension": ".py",
   "mimetype": "text/x-python",
   "name": "python",
   "nbconvert_exporter": "python",
   "pygments_lexer": "ipython3",
   "version": "3.6.5"
  }
 },
 "nbformat": 4,
 "nbformat_minor": 2
}
